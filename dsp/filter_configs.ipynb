{
 "cells": [
  {
   "cell_type": "code",
   "execution_count": 14,
   "id": "abstract-leader",
   "metadata": {},
   "outputs": [],
   "source": [
    "def calculate_buffer_size(sample_rate_hz, target_freq_hz, bin_width_hz):\n",
    "    max_samples=(2**16)-1\n",
    "    for n in range(1, max_samples):\n",
    "        if (sample_rate_hz*0.5/n) < bin_width_hz:\n",
    "            return n\n",
    "    return 0\n",
    "\n",
    "def calculate_buffer_size_base2(sample_rate_hz, target_freq_hz, bin_width_hz):\n",
    "    n=2\n",
    "    max_samples=(2**16)\n",
    "    while n < max_samples:\n",
    "        if (sample_rate_hz*0.5/n) < bin_width_hz:\n",
    "            return n\n",
    "        n *= 2\n",
    "    return 0"
   ]
  },
  {
   "cell_type": "code",
   "execution_count": 18,
   "id": "limited-shaft",
   "metadata": {},
   "outputs": [
    {
     "name": "stdout",
     "output_type": "stream",
     "text": [
      "5001\n",
      "8192\n"
     ]
    }
   ],
   "source": [
    "FSAMPLE = 2e6\n",
    "BIN_SIZE = 200\n",
    "TARGET_FREQ = 2.5e3\n",
    "\n",
    "print(calculate_buffer_size(FSAMPLE, TARGET_FREQ, BIN_SIZE))\n",
    "print(calculate_buffer_size_base2(FSAMPLE, TARGET_FREQ, BIN_SIZE))"
   ]
  },
  {
   "cell_type": "code",
   "execution_count": null,
   "id": "attached-crossing",
   "metadata": {},
   "outputs": [],
   "source": []
  }
 ],
 "metadata": {
  "kernelspec": {
   "display_name": "Python 3",
   "language": "python",
   "name": "python3"
  },
  "language_info": {
   "codemirror_mode": {
    "name": "ipython",
    "version": 3
   },
   "file_extension": ".py",
   "mimetype": "text/x-python",
   "name": "python",
   "nbconvert_exporter": "python",
   "pygments_lexer": "ipython3",
   "version": "3.7.4"
  }
 },
 "nbformat": 4,
 "nbformat_minor": 5
}
